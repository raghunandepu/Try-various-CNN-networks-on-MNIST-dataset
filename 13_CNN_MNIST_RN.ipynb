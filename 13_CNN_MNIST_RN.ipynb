{
 "cells": [
  {
   "cell_type": "markdown",
   "metadata": {
    "colab_type": "text",
    "id": "ZDwCAVXaaiWc"
   },
   "source": [
    "# Convolutional Neural Network on MNIST dataset using Keras"
   ]
  },
  {
   "cell_type": "code",
   "execution_count": 0,
   "metadata": {
    "colab": {},
    "colab_type": "code",
    "id": "t2MlveI5ucwE"
   },
   "outputs": [],
   "source": [
    "# Credits: https://github.com/keras-team/keras/blob/master/examples/mnist_cnn.py\n",
    "\n",
    "# Importing libraries and modules\n",
    "from __future__ import print_function\n",
    "import keras\n",
    "from keras.datasets import mnist\n",
    "from keras.models import Sequential\n",
    "from keras.layers import Dense, Dropout, Flatten\n",
    "from keras.layers import Conv2D, MaxPooling2D\n",
    "from keras import backend as K\n",
    "K.set_image_dim_ordering('tf')\n",
    "# import BatchNormalization\n",
    "from keras.layers.normalization import BatchNormalization\n",
    "\n",
    "import warnings\n",
    "warnings.filterwarnings(\"ignore\")"
   ]
  },
  {
   "cell_type": "markdown",
   "metadata": {
    "colab_type": "text",
    "id": "nIiQKWdTXDl8"
   },
   "source": [
    "## Loading MNIST data and preprocessing it"
   ]
  },
  {
   "cell_type": "code",
   "execution_count": 2,
   "metadata": {
    "colab": {
     "base_uri": "https://localhost:8080/",
     "height": 104
    },
    "colab_type": "code",
    "id": "Rnruw463vKCs",
    "outputId": "4c51fc10-3e06-4d2f-fcdf-db9f6388a60c"
   },
   "outputs": [
    {
     "name": "stdout",
     "output_type": "stream",
     "text": [
      "Downloading data from https://s3.amazonaws.com/img-datasets/mnist.npz\n",
      "11493376/11490434 [==============================] - 0s 0us/step\n",
      "x_train.shape: (60000, 28, 28, 1)\n",
      "60000 train samples\n",
      "10000 test samples\n"
     ]
    }
   ],
   "source": [
    "batch_size = 128 \n",
    "num_classes = 10\n",
    "epochs = 12\n",
    "\n",
    "#input image dimensions\n",
    "img_rows, img_cols = 28, 28\n",
    "\n",
    "#the data, split between train and test sets\n",
    "(x_train, y_train) , (x_test, y_test) = mnist.load_data()\n",
    "\n",
    "# Preprocessing the data\n",
    "if K.image_data_format() == 'channels_first':\n",
    "  x_train = x_train.reshape(x_train.shape[0], 1, img_rows, img_cols)\n",
    "  x_test = x_test.reshape(x_test.shape[0], 1, img_rows, img_cols)\n",
    "  input_shape = (1, img_rows, img_cols)\n",
    "else:\n",
    "  x_train = x_train.reshape(x_train.shape[0], img_rows, img_cols, 1)\n",
    "  x_test = x_test.reshape(x_test.shape[0], img_rows, img_cols, 1)\n",
    "  input_shape = (img_rows, img_cols, 1)\n",
    "  \n",
    "x_train = x_train.astype('float32')\n",
    "x_test = x_test.astype('float32')\n",
    "\n",
    "#Normalizing the data\n",
    "\n",
    "x_train /= 255\n",
    "x_test /= 255\n",
    "print('x_train.shape:', x_train.shape)\n",
    "print(x_train.shape[0], 'train samples')\n",
    "print(x_test.shape[0], 'test samples')\n",
    "\n",
    "# Convert class vectors to binary class matrices\n",
    "y_train = keras.utils.to_categorical(y_train, num_classes)\n",
    "y_test = keras.utils.to_categorical(y_test, num_classes)"
   ]
  },
  {
   "cell_type": "markdown",
   "metadata": {
    "colab_type": "text",
    "id": "raHfvYf0XOMm"
   },
   "source": [
    "## Creating a simple model with 2 Convolution layers"
   ]
  },
  {
   "cell_type": "code",
   "execution_count": 7,
   "metadata": {
    "colab": {
     "base_uri": "https://localhost:8080/",
     "height": 484
    },
    "colab_type": "code",
    "id": "Atf1SRV9vT3j",
    "outputId": "846221bb-6138-409b-8d25-d30cfc43944c"
   },
   "outputs": [
    {
     "name": "stdout",
     "output_type": "stream",
     "text": [
      "Train on 60000 samples, validate on 10000 samples\n",
      "Epoch 1/12\n",
      "60000/60000 [==============================] - 7s 116us/step - loss: 0.2592 - acc: 0.9188 - val_loss: 0.0655 - val_acc: 0.9795\n",
      "Epoch 2/12\n",
      "60000/60000 [==============================] - 6s 104us/step - loss: 0.0884 - acc: 0.9737 - val_loss: 0.0437 - val_acc: 0.9863\n",
      "Epoch 3/12\n",
      "60000/60000 [==============================] - 6s 104us/step - loss: 0.0661 - acc: 0.9802 - val_loss: 0.0389 - val_acc: 0.9859\n",
      "Epoch 4/12\n",
      "60000/60000 [==============================] - 6s 104us/step - loss: 0.0541 - acc: 0.9835 - val_loss: 0.0346 - val_acc: 0.9881\n",
      "Epoch 5/12\n",
      "60000/60000 [==============================] - 6s 103us/step - loss: 0.0476 - acc: 0.9859 - val_loss: 0.0301 - val_acc: 0.9893\n",
      "Epoch 6/12\n",
      "60000/60000 [==============================] - 6s 104us/step - loss: 0.0414 - acc: 0.9872 - val_loss: 0.0316 - val_acc: 0.9904\n",
      "Epoch 7/12\n",
      "60000/60000 [==============================] - 6s 103us/step - loss: 0.0381 - acc: 0.9884 - val_loss: 0.0302 - val_acc: 0.9911\n",
      "Epoch 8/12\n",
      "60000/60000 [==============================] - 6s 104us/step - loss: 0.0343 - acc: 0.9896 - val_loss: 0.0298 - val_acc: 0.9913\n",
      "Epoch 9/12\n",
      "60000/60000 [==============================] - 6s 103us/step - loss: 0.0316 - acc: 0.9902 - val_loss: 0.0298 - val_acc: 0.9903\n",
      "Epoch 10/12\n",
      "60000/60000 [==============================] - 6s 102us/step - loss: 0.0299 - acc: 0.9908 - val_loss: 0.0306 - val_acc: 0.9917\n",
      "Epoch 11/12\n",
      "60000/60000 [==============================] - 6s 101us/step - loss: 0.0277 - acc: 0.9910 - val_loss: 0.0338 - val_acc: 0.9894\n",
      "Epoch 12/12\n",
      "60000/60000 [==============================] - 6s 99us/step - loss: 0.0265 - acc: 0.9917 - val_loss: 0.0282 - val_acc: 0.9910\n",
      "Test Loss: 0.028157047247102673\n",
      "Test Accuracy: 0.991\n"
     ]
    }
   ],
   "source": [
    "# Creating a simple model\n",
    "model = Sequential()\n",
    "model.add(Conv2D(32, kernel_size=(3,3), \n",
    "                 activation='relu', \n",
    "                 input_shape=input_shape))\n",
    "model.add(Conv2D(64, (3,3), activation='relu'))\n",
    "model.add(MaxPooling2D(pool_size=(2,2)))\n",
    "model.add(Dropout(0.25))\n",
    "model.add(Flatten())\n",
    "model.add(Dense(128, activation='relu'))\n",
    "model.add(Dropout(0.5))\n",
    "model.add(Dense(num_classes, activation='softmax'))\n",
    "\n",
    "model.compile(loss=keras.losses.categorical_crossentropy,\n",
    "             optimizer=keras.optimizers.Adadelta(),\n",
    "             metrics =['accuracy'])\n",
    "          \n",
    "history = model.fit(x_train, y_train, batch_size = batch_size, epochs=epochs, verbose=1, validation_data = (x_test, y_test))\n",
    "\n",
    "score = model.evaluate(x_test, y_test, verbose=0)\n",
    "print('Test Loss:', score[0])\n",
    "print('Test Accuracy:', score[1])         "
   ]
  },
  {
   "cell_type": "markdown",
   "metadata": {
    "colab_type": "text",
    "id": "Kfuicq9avsfK"
   },
   "source": [
    "### Error plot : Epoch vs Loss"
   ]
  },
  {
   "cell_type": "code",
   "execution_count": 8,
   "metadata": {
    "colab": {
     "base_uri": "https://localhost:8080/",
     "height": 295
    },
    "colab_type": "code",
    "id": "A733T87Uscwl",
    "outputId": "a4f39081-37d3-4076-eda1-6b8630603194"
   },
   "outputs": [
    {
     "data": {
      "image/png": "[encoded data removed]",
      "text/plain": [
       "<Figure size 432x288 with 1 Axes>"
      ]
     },
     "metadata": {
      "tags": []
     },
     "output_type": "display_data"
    }
   ],
   "source": [
    "# Drawing Error plot\n",
    "\n",
    "import matplotlib.pyplot as plt\n",
    "fig, ax = plt.subplots(1,1)\n",
    "ax.set_xlabel('Epoch')\n",
    "ax.set_ylabel('Categorical CrossEntropy')\n",
    "\n",
    "x = list(range(1,epochs+1))\n",
    "\n",
    "validation_y = history.history['val_loss']  # Code reference: https://machinelearningmastery.com/display-deep-learning-model-training-history-in-keras/\n",
    "train_y = history.history['loss']\n",
    "ax.plot(x,validation_y, label='Validation Loss')\n",
    "ax.plot(x,train_y, label=\"Train Loss\")\n",
    "plt.legend()\n",
    "plt.grid()\n",
    "plt.title(\"Error plot : Epoch vs Loss\")\n",
    "plt.show()"
   ]
  },
  {
   "cell_type": "markdown",
   "metadata": {
    "colab_type": "text",
    "id": "_MIxvT2K33FX"
   },
   "source": [
    "# Trying 3 different architectures"
   ]
  },
  {
   "cell_type": "markdown",
   "metadata": {
    "colab_type": "text",
    "id": "PEINccJo4HlM"
   },
   "source": [
    "##1. Model with 3 Convolution Layers and 3X3 Kernel"
   ]
  },
  {
   "cell_type": "code",
   "execution_count": 10,
   "metadata": {
    "colab": {
     "base_uri": "https://localhost:8080/",
     "height": 538
    },
    "colab_type": "code",
    "id": "mZhYpHYy37Yc",
    "outputId": "e2651197-ef59-41d4-f903-ea89f8f56006"
   },
   "outputs": [
    {
     "name": "stderr",
     "output_type": "stream",
     "text": [
      "W0713 06:34:48.456474 140430962653056 deprecation_wrapper.py:119] From /usr/local/lib/python3.6/dist-packages/keras/backend/tensorflow_backend.py:1834: The name tf.nn.fused_batch_norm is deprecated. Please use tf.compat.v1.nn.fused_batch_norm instead.\n",
      "\n"
     ]
    },
    {
     "name": "stdout",
     "output_type": "stream",
     "text": [
      "Train on 60000 samples, validate on 10000 samples\n",
      "Epoch 1/12\n",
      "60000/60000 [==============================] - 7s 122us/step - loss: 0.1681 - acc: 0.9484 - val_loss: 0.0414 - val_acc: 0.9862\n",
      "Epoch 2/12\n",
      "60000/60000 [==============================] - 6s 99us/step - loss: 0.0565 - acc: 0.9829 - val_loss: 0.0311 - val_acc: 0.9900\n",
      "Epoch 3/12\n",
      "60000/60000 [==============================] - 6s 97us/step - loss: 0.0396 - acc: 0.9872 - val_loss: 0.0405 - val_acc: 0.9858\n",
      "Epoch 4/12\n",
      "60000/60000 [==============================] - 6s 99us/step - loss: 0.0330 - acc: 0.9896 - val_loss: 0.0333 - val_acc: 0.9895\n",
      "Epoch 5/12\n",
      "60000/60000 [==============================] - 6s 98us/step - loss: 0.0252 - acc: 0.9920 - val_loss: 0.0288 - val_acc: 0.9913\n",
      "Epoch 6/12\n",
      "60000/60000 [==============================] - 6s 99us/step - loss: 0.0224 - acc: 0.9932 - val_loss: 0.0249 - val_acc: 0.9927\n",
      "Epoch 7/12\n",
      "60000/60000 [==============================] - 6s 98us/step - loss: 0.0187 - acc: 0.9940 - val_loss: 0.0233 - val_acc: 0.9926\n",
      "Epoch 8/12\n",
      "60000/60000 [==============================] - 6s 98us/step - loss: 0.0162 - acc: 0.9945 - val_loss: 0.0472 - val_acc: 0.9837\n",
      "Epoch 9/12\n",
      "60000/60000 [==============================] - 6s 99us/step - loss: 0.0131 - acc: 0.9959 - val_loss: 0.0207 - val_acc: 0.9939\n",
      "Epoch 10/12\n",
      "60000/60000 [==============================] - 6s 101us/step - loss: 0.0120 - acc: 0.9960 - val_loss: 0.0219 - val_acc: 0.9939\n",
      "Epoch 11/12\n",
      "60000/60000 [==============================] - 6s 102us/step - loss: 0.0115 - acc: 0.9963 - val_loss: 0.0226 - val_acc: 0.9929\n",
      "Epoch 12/12\n",
      "60000/60000 [==============================] - 6s 97us/step - loss: 0.0105 - acc: 0.9967 - val_loss: 0.0195 - val_acc: 0.9950\n",
      "Test Loss: 0.019520149947955635\n",
      "Test Accuracy: 0.995\n"
     ]
    }
   ],
   "source": [
    "droprate=0.25\n",
    "\n",
    "model = Sequential()\n",
    "model.add(Conv2D(32, kernel_size=(3,3), \n",
    "                 activation='relu', \n",
    "                 input_shape=input_shape))   # Conv Layer 1\n",
    "model.add(BatchNormalization())              # With Batchnormalization\n",
    "model.add(MaxPooling2D(pool_size=(2,2)))\n",
    "\n",
    "model.add(Conv2D(64, (3,3), activation='relu')) # Conv Layer 2\n",
    "model.add(BatchNormalization())                 # With Batchnormalization\n",
    "model.add(MaxPooling2D(pool_size=(2,2)))\n",
    "\n",
    "model.add(Dropout(droprate))\n",
    "model.add(Conv2D(64, (3,3), activation='relu')) # Conv Layer 3\n",
    "model.add(BatchNormalization())                 # With Batchnormalization\n",
    "model.add(Flatten())\n",
    "model.add(Dense(128, activation='relu'))\n",
    "model.add(Dropout(droprate))\n",
    "model.add(Dense(num_classes, activation='softmax'))\n",
    "\n",
    "model.compile(loss=keras.losses.categorical_crossentropy,\n",
    "             optimizer=keras.optimizers.Adadelta(),\n",
    "             metrics =['accuracy'])\n",
    "          \n",
    "history = model.fit(x_train, y_train, batch_size = batch_size, epochs=epochs, verbose=1, validation_data = (x_test, y_test))\n",
    "\n",
    "score = model.evaluate(x_test, y_test, verbose=0)\n",
    "print('Test Loss:', score[0])\n",
    "print('Test Accuracy:', score[1])"
   ]
  },
  {
   "cell_type": "markdown",
   "metadata": {
    "colab_type": "text",
    "id": "5t-sYa1jv3my"
   },
   "source": [
    "### Error plot : Epoch vs Loss"
   ]
  },
  {
   "cell_type": "code",
   "execution_count": 11,
   "metadata": {
    "colab": {
     "base_uri": "https://localhost:8080/",
     "height": 295
    },
    "colab_type": "code",
    "id": "rl7XIaKBv4YQ",
    "outputId": "4e056645-8b0e-41f6-c74d-aaf5be359c81"
   },
   "outputs": [
    {
     "data": {
      "image/png": "[encoded data removed]",
      "text/plain": [
       "<Figure size 432x288 with 1 Axes>"
      ]
     },
     "metadata": {
      "tags": []
     },
     "output_type": "display_data"
    }
   ],
   "source": [
    "# Drawing Error plot\n",
    "\n",
    "import matplotlib.pyplot as plt\n",
    "fig, ax = plt.subplots(1,1)\n",
    "ax.set_xlabel('Epoch')\n",
    "ax.set_ylabel('Categorical CrossEntropy')\n",
    "\n",
    "x = list(range(1,epochs+1))\n",
    "\n",
    "validation_y = history.history['val_loss']  # Code reference: https://machinelearningmastery.com/display-deep-learning-model-training-history-in-keras/\n",
    "train_y = history.history['loss']\n",
    "ax.plot(x,validation_y, label='Validation Loss')\n",
    "ax.plot(x,train_y, label=\"Train Loss\")\n",
    "plt.legend()\n",
    "plt.grid()\n",
    "plt.title(\"Error plot : Epoch vs Loss\")\n",
    "plt.show()"
   ]
  },
  {
   "cell_type": "markdown",
   "metadata": {
    "colab_type": "text",
    "id": "Mzs7tjoH5ex2"
   },
   "source": [
    "##2. Model with 5 Convolution Layers and 2x2 Kernel"
   ]
  },
  {
   "cell_type": "code",
   "execution_count": 14,
   "metadata": {
    "colab": {
     "base_uri": "https://localhost:8080/",
     "height": 484
    },
    "colab_type": "code",
    "id": "ogXEnk1U5i3a",
    "outputId": "db6efa2e-1a71-4192-a183-ad9a5ed44c32"
   },
   "outputs": [
    {
     "name": "stdout",
     "output_type": "stream",
     "text": [
      "Train on 60000 samples, validate on 10000 samples\n",
      "Epoch 1/12\n",
      "60000/60000 [==============================] - 7s 113us/step - loss: 0.7865 - acc: 0.7372 - val_loss: 0.1354 - val_acc: 0.9573\n",
      "Epoch 2/12\n",
      "60000/60000 [==============================] - 5s 84us/step - loss: 0.2720 - acc: 0.9195 - val_loss: 0.0913 - val_acc: 0.9720\n",
      "Epoch 3/12\n",
      "60000/60000 [==============================] - 5s 86us/step - loss: 0.2055 - acc: 0.9389 - val_loss: 0.0642 - val_acc: 0.9786\n",
      "Epoch 4/12\n",
      "60000/60000 [==============================] - 5s 85us/step - loss: 0.1747 - acc: 0.9483 - val_loss: 0.0655 - val_acc: 0.9796\n",
      "Epoch 5/12\n",
      "60000/60000 [==============================] - 5s 88us/step - loss: 0.1572 - acc: 0.9540 - val_loss: 0.0503 - val_acc: 0.9854\n",
      "Epoch 6/12\n",
      "60000/60000 [==============================] - 5s 88us/step - loss: 0.1417 - acc: 0.9583 - val_loss: 0.0476 - val_acc: 0.9858\n",
      "Epoch 7/12\n",
      "60000/60000 [==============================] - 5s 88us/step - loss: 0.1292 - acc: 0.9620 - val_loss: 0.0445 - val_acc: 0.9854\n",
      "Epoch 8/12\n",
      "60000/60000 [==============================] - 5s 88us/step - loss: 0.1224 - acc: 0.9648 - val_loss: 0.0409 - val_acc: 0.9878\n",
      "Epoch 9/12\n",
      "60000/60000 [==============================] - 5s 89us/step - loss: 0.1194 - acc: 0.9655 - val_loss: 0.0388 - val_acc: 0.9880\n",
      "Epoch 10/12\n",
      "60000/60000 [==============================] - 5s 86us/step - loss: 0.1120 - acc: 0.9679 - val_loss: 0.0388 - val_acc: 0.9878\n",
      "Epoch 11/12\n",
      "60000/60000 [==============================] - 5s 85us/step - loss: 0.1060 - acc: 0.9695 - val_loss: 0.0387 - val_acc: 0.9887\n",
      "Epoch 12/12\n",
      "60000/60000 [==============================] - 5s 89us/step - loss: 0.1017 - acc: 0.9703 - val_loss: 0.0350 - val_acc: 0.9894\n",
      "Test Loss: 0.034964014364383185\n",
      "Test Accuracy: 0.9894\n"
     ]
    }
   ],
   "source": [
    "# Without Batch normalization\n",
    "droprate=0.50\n",
    "\n",
    "model = Sequential()\n",
    "model.add(Conv2D(32, kernel_size=(2,2), \n",
    "                 activation='relu', \n",
    "                 input_shape=input_shape))   # Conv Layer 1\n",
    "model.add(MaxPooling2D(pool_size=(2,2)))\n",
    "\n",
    "model.add(Conv2D(32, (2,2), activation='relu')) # Conv Layer 2\n",
    "model.add(Dropout(droprate))\n",
    "\n",
    "model.add(Conv2D(32, (2,2), activation='relu')) # Conv Layer 3\n",
    "model.add(MaxPooling2D(pool_size=(2,2)))\n",
    "\n",
    "model.add(Conv2D(64, (2,2), activation='relu')) # Conv Layer 4\n",
    "model.add(MaxPooling2D(pool_size=(2,2)))\n",
    "model.add(Dropout(droprate))\n",
    "          \n",
    "model.add(Conv2D(64, (2,2), activation='relu')) # Conv Layer 5\n",
    "model.add(Flatten())\n",
    "model.add(Dense(128, activation='relu'))\n",
    "model.add(Dropout(droprate))\n",
    "model.add(Dense(num_classes, activation='softmax'))\n",
    "\n",
    "model.compile(loss=keras.losses.categorical_crossentropy,\n",
    "             optimizer=keras.optimizers.Adadelta(),\n",
    "             metrics =['accuracy'])\n",
    "          \n",
    "history = model.fit(x_train, y_train, batch_size = batch_size, epochs=epochs, verbose=1, validation_data = (x_test, y_test))\n",
    "\n",
    "score = model.evaluate(x_test, y_test, verbose=0)\n",
    "print('Test Loss:', score[0])\n",
    "print('Test Accuracy:', score[1])"
   ]
  },
  {
   "cell_type": "markdown",
   "metadata": {
    "colab_type": "text",
    "id": "ohHKXhBAw5ji"
   },
   "source": [
    "###Error plot : Epoch vs Loss"
   ]
  },
  {
   "cell_type": "code",
   "execution_count": 15,
   "metadata": {
    "colab": {
     "base_uri": "https://localhost:8080/",
     "height": 295
    },
    "colab_type": "code",
    "id": "D5GmcpUsw74i",
    "outputId": "a992113c-37f5-4771-9373-9a28540b8342"
   },
   "outputs": [
    {
     "data": {
      "image/png": "[encoded data removed]",
      "text/plain": [
       "<Figure size 432x288 with 1 Axes>"
      ]
     },
     "metadata": {
      "tags": []
     },
     "output_type": "display_data"
    }
   ],
   "source": [
    "# Drawing Error plot\n",
    "\n",
    "import matplotlib.pyplot as plt\n",
    "fig, ax = plt.subplots(1,1)\n",
    "ax.set_xlabel('Epoch')\n",
    "ax.set_ylabel('Categorical CrossEntropy')\n",
    "\n",
    "x = list(range(1,epochs+1))\n",
    "\n",
    "validation_y = history.history['val_loss']  # Code reference: https://machinelearningmastery.com/display-deep-learning-model-training-history-in-keras/\n",
    "train_y = history.history['loss']\n",
    "ax.plot(x,validation_y, label='Validation Loss')\n",
    "ax.plot(x,train_y, label=\"Train Loss\")\n",
    "plt.legend()\n",
    "plt.grid()\n",
    "plt.title(\"Error plot : Epoch vs Loss\")\n",
    "plt.show()"
   ]
  },
  {
   "cell_type": "markdown",
   "metadata": {
    "colab_type": "text",
    "id": "z8oI2zw0BpvX"
   },
   "source": [
    "##3. Model with 7 Convolution Layers and 5x5 Kernel"
   ]
  },
  {
   "cell_type": "code",
   "execution_count": 36,
   "metadata": {
    "colab": {
     "base_uri": "https://localhost:8080/",
     "height": 484
    },
    "colab_type": "code",
    "id": "vB7sIfOpBtED",
    "outputId": "25042d0c-e8f1-4289-e954-5f5eea2a6848"
   },
   "outputs": [
    {
     "name": "stdout",
     "output_type": "stream",
     "text": [
      "Train on 60000 samples, validate on 10000 samples\n",
      "Epoch 1/12\n",
      "60000/60000 [==============================] - 15s 251us/step - loss: 0.6232 - acc: 0.8162 - val_loss: 0.2725 - val_acc: 0.9340\n",
      "Epoch 2/12\n",
      "60000/60000 [==============================] - 8s 142us/step - loss: 0.1343 - acc: 0.9669 - val_loss: 0.0646 - val_acc: 0.9836\n",
      "Epoch 3/12\n",
      "60000/60000 [==============================] - 8s 140us/step - loss: 0.0980 - acc: 0.9771 - val_loss: 0.0613 - val_acc: 0.9855\n",
      "Epoch 4/12\n",
      "60000/60000 [==============================] - 9s 143us/step - loss: 0.0808 - acc: 0.9809 - val_loss: 0.1190 - val_acc: 0.9761\n",
      "Epoch 5/12\n",
      "60000/60000 [==============================] - 9s 142us/step - loss: 0.0658 - acc: 0.9850 - val_loss: 0.0440 - val_acc: 0.9893\n",
      "Epoch 6/12\n",
      "60000/60000 [==============================] - 9s 142us/step - loss: 0.0604 - acc: 0.9871 - val_loss: 0.0655 - val_acc: 0.9843\n",
      "Epoch 7/12\n",
      "60000/60000 [==============================] - 8s 141us/step - loss: 0.0522 - acc: 0.9889 - val_loss: 0.0335 - val_acc: 0.9924\n",
      "Epoch 8/12\n",
      "60000/60000 [==============================] - 8s 142us/step - loss: 0.0470 - acc: 0.9893 - val_loss: 0.0645 - val_acc: 0.9867\n",
      "Epoch 9/12\n",
      "60000/60000 [==============================] - 9s 143us/step - loss: 0.0465 - acc: 0.9902 - val_loss: 0.0327 - val_acc: 0.9918\n",
      "Epoch 10/12\n",
      "60000/60000 [==============================] - 9s 142us/step - loss: 0.0386 - acc: 0.9906 - val_loss: 0.0374 - val_acc: 0.9905\n",
      "Epoch 11/12\n",
      "60000/60000 [==============================] - 8s 141us/step - loss: 0.0428 - acc: 0.9911 - val_loss: 0.0344 - val_acc: 0.9926\n",
      "Epoch 12/12\n",
      "60000/60000 [==============================] - 8s 141us/step - loss: 0.0340 - acc: 0.9925 - val_loss: 0.0594 - val_acc: 0.9877\n",
      "Test Loss: 0.05944794932234972\n",
      "Test Accuracy: 0.9877\n"
     ]
    }
   ],
   "source": [
    "#With Batch normalization\n",
    "droprate=0.6\n",
    "\n",
    "model = Sequential()\n",
    "model.add(Conv2D(32, kernel_size=(5,5), \n",
    "                 activation='relu', \n",
    "                 input_shape=input_shape))   # Conv Layer 1\n",
    "model.add(BatchNormalization())              # With Batchnormalization\n",
    "\n",
    "model.add(Conv2D(32, (5,5), activation='relu')) # Conv Layer 2\n",
    "model.add(BatchNormalization())              # With Batchnormalization\n",
    "\n",
    "\n",
    "model.add(Conv2D(32, (5,5), activation='relu')) # Conv Layer 3\n",
    "model.add(BatchNormalization())              # With Batchnormalization\n",
    "\n",
    "\n",
    "model.add(Conv2D(32, (5,5), activation='relu')) # Conv Layer 4\n",
    "model.add(BatchNormalization())  # With Batchnormalization\n",
    "\n",
    "model.add(Conv2D(32, (5,5), activation='relu')) # Conv Layer 5\n",
    "model.add(BatchNormalization())                 # With Batchnormalization\n",
    "\n",
    "model.add(Conv2D(32, (3,3), activation='relu')) # Conv Layer 6\n",
    "model.add(BatchNormalization())             # With Batchnormalization\n",
    "model.add(Dropout(droprate))\n",
    "\n",
    "model.add(Conv2D(64, (5,5), activation='relu')) # Conv Layer 7\n",
    "model.add(BatchNormalization())              # With Batchnormalization\n",
    "\n",
    "model.add(MaxPooling2D(pool_size=(2,2)))\n",
    "model.add(Dropout(droprate))\n",
    "model.add(Flatten())\n",
    "model.add(Dense(128, activation='relu'))\n",
    "model.add(Dropout(droprate))\n",
    "model.add(Dense(num_classes, activation='softmax'))\n",
    "\n",
    "model.compile(loss=keras.losses.categorical_crossentropy,\n",
    "             optimizer=keras.optimizers.Adadelta(),\n",
    "             metrics =['accuracy'])\n",
    "          \n",
    "history = model.fit(x_train, y_train, batch_size = batch_size, epochs=epochs, verbose=1, validation_data = (x_test, y_test))\n",
    "\n",
    "score = model.evaluate(x_test, y_test, verbose=0)\n",
    "print('Test Loss:', score[0])\n",
    "print('Test Accuracy:', score[1])"
   ]
  },
  {
   "cell_type": "markdown",
   "metadata": {
    "colab_type": "text",
    "id": "QGyf5ROewcgR"
   },
   "source": [
    "###Error plot : Epoch vs Loss"
   ]
  },
  {
   "cell_type": "code",
   "execution_count": 37,
   "metadata": {
    "colab": {
     "base_uri": "https://localhost:8080/",
     "height": 295
    },
    "colab_type": "code",
    "id": "PjQF9Nlmwb2J",
    "outputId": "c8bf6113-a787-46e7-bf19-b793c4785fa6"
   },
   "outputs": [
    {
     "data": {
      "image/png": "[encoded data removed]",
      "text/plain": [
       "<Figure size 432x288 with 1 Axes>"
      ]
     },
     "metadata": {
      "tags": []
     },
     "output_type": "display_data"
    }
   ],
   "source": [
    "# Drawing Error plot\n",
    "\n",
    "import matplotlib.pyplot as plt\n",
    "fig, ax = plt.subplots(1,1)\n",
    "ax.set_xlabel('Epoch')\n",
    "ax.set_ylabel('Categorical CrossEntropy')\n",
    "\n",
    "x = list(range(1,epochs+1))\n",
    "\n",
    "validation_y = history.history['val_loss']  # Code reference: https://machinelearningmastery.com/display-deep-learning-model-training-history-in-keras/\n",
    "train_y = history.history['loss']\n",
    "ax.plot(x,validation_y, label='Validation Loss')\n",
    "ax.plot(x,train_y, label=\"Train Loss\")\n",
    "plt.legend()\n",
    "plt.grid()\n",
    "plt.title(\"Error plot : Epoch vs Loss\")\n",
    "plt.show()"
   ]
  },
  {
   "cell_type": "markdown",
   "metadata": {
    "colab_type": "text",
    "id": "qKUhYX2xVGDC"
   },
   "source": [
    "## Conclusion:"
   ]
  },
  {
   "cell_type": "markdown",
   "metadata": {
    "colab_type": "text",
    "id": "3YuKa3R9VMH9"
   },
   "source": [
    "### Procedure Followed"
   ]
  },
  {
   "cell_type": "markdown",
   "metadata": {
    "colab_type": "text",
    "id": "5N_2zwR2VRcP"
   },
   "source": [
    "STEP 1: Load MNIST image data and shuffle it into train and test sets.\n",
    "\n",
    "STEP 2: Complete preprocessing the data including reshapping train, test sets and normalizing the data.\n",
    "\n",
    "STEP 3: Define model architecture\n",
    "\n",
    "STEP 4: Compile model\n",
    "\n",
    "STEP 5: Fit the model on training data \n",
    "\n",
    "STEP 6: Evaluate the model on test data\n",
    "\n",
    "STEP 7: Repeat the steps from 3 to 7 for 3 different model archtectures (3 Convolution layers, 5 Convolution layers and 7 Convolution layers with different kernel sizes, maxpool, dropouts, with or withour batch normalization)\n",
    "\n",
    "STEP 8: Observe the test loss and test accuracy for each of the model and summarize them."
   ]
  },
  {
   "cell_type": "markdown",
   "metadata": {
    "colab_type": "text",
    "id": "50uMzHE0Wc-0"
   },
   "source": [
    "## Model performance comparision"
   ]
  },
  {
   "cell_type": "code",
   "execution_count": 39,
   "metadata": {
    "colab": {
     "base_uri": "https://localhost:8080/",
     "height": 138
    },
    "colab_type": "code",
    "id": "odE7cQoZVHJe",
    "outputId": "c83158f4-0bc3-45bd-a0ce-f72ae6db781b"
   },
   "outputs": [
    {
     "name": "stdout",
     "output_type": "stream",
     "text": [
      "+------+---------------------------+-------------+---------+-----------+---------------+\n",
      "| S.No | No. of Convolution Layers | Kernel Size | Dropout | Test Loss | Test Accuracy |\n",
      "+------+---------------------------+-------------+---------+-----------+---------------+\n",
      "|  1   |             3             |    (3x3)    |   0.25  |   0.0195  |     0.995     |\n",
      "|  2   |             5             |    (2x2)    |   0.5   |   0.0349  |     0.9894    |\n",
      "|  3   |             7             |    (5x5)    |   0.6   |   0.0594  |     0.9877    |\n",
      "+------+---------------------------+-------------+---------+-----------+---------------+\n"
     ]
    }
   ],
   "source": [
    "from prettytable import PrettyTable\n",
    "x = PrettyTable()\n",
    "\n",
    "x.field_names=['S.No', 'No. of Convolution Layers','Kernel Size', 'Dropout','Test Loss', 'Test Accuracy']\n",
    "x.add_row([1,3, '(3x3)',0.25, 0.0195,0.995 ])\n",
    "x.add_row([2,5, '(2x2)',0.50, 0.0349,0.9894])\n",
    "x.add_row([3,7, '(5x5)',0.60,0.0594,0.9877 ])\n",
    "print(x)"
   ]
  },
  {
   "cell_type": "markdown",
   "metadata": {
    "colab_type": "text",
    "id": "9Aivl_8laSMJ"
   },
   "source": [
    "#### We can conclude that all the above 3 different architectures performed well and gave accuracy close to 99%. Test loss is less and accuracy is slightly more when drop out rate is less (0.25)"
   ]
  }
 ],
 "metadata": {
  "accelerator": "GPU",
  "colab": {
   "collapsed_sections": [],
   "name": "CNN_MNIST_RN_2",
   "provenance": [],
   "version": "0.3.2"
  },
  "kernelspec": {
   "display_name": "Python 3",
   "language": "python",
   "name": "python3"
  },
  "language_info": {
   "codemirror_mode": {
    "name": "ipython",
    "version": 3
   },
   "file_extension": ".py",
   "mimetype": "text/x-python",
   "name": "python",
   "nbconvert_exporter": "python",
   "pygments_lexer": "ipython3",
   "version": "3.6.8"
  }
 },
 "nbformat": 4,
 "nbformat_minor": 1
}
